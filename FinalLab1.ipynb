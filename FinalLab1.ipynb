{
 "cells": [
  {
   "cell_type": "markdown",
   "metadata": {},
   "source": [
    "## Profiling (7 pts + 2 bonus pts)\n",
    "\n",
    "Before we go any further and start looking at how vectorization makes your program faster, we need to talk about profiling. Profiling is the act of measuring performance of a program, either by timing it or by looking into memory access, depending on what is you are trying to measure.\n",
    "\n",
    "(Follow the instructions here: https://jakevdp.github.io/PythonDataScienceHandbook/01.07-timing-and-profiling.html to setup the profilers)\n",
    "\n",
    "# **Remember to save your file after generating all the required results. Then we can directly see your results.**\n",
    "\n",
    "### Time\n",
    "\n",
    "This is the most common profiler. In a python code you just import the time module and measure starting and ending time. For IPython we can call the %time %%time and %%timeit magic"
   ]
  },
  {
   "cell_type": "code",
   "execution_count": 14,
   "metadata": {},
   "outputs": [],
   "source": [
    "%time?"
   ]
  },
  {
   "cell_type": "markdown",
   "metadata": {},
   "source": [
    "# Question 1 (0.5 pts)\n",
    "Run the following code and explain its output"
   ]
  },
  {
   "cell_type": "code",
   "execution_count": 15,
   "metadata": {},
   "outputs": [
    {
     "name": "stdout",
     "output_type": "stream",
     "text": [
      "CPU times: user 1.38 s, sys: 4 ms, total: 1.39 s\n",
      "Wall time: 1.4 s\n"
     ]
    }
   ],
   "source": [
    "%%time\n",
    "total = 0\n",
    "for i in range(1000):\n",
    "    for j in range(1000):\n",
    "        total += i * (-1) ** j"
   ]
  },
  {
   "cell_type": "markdown",
   "metadata": {},
   "source": [
    "The user time is 1.38 seconds of the 1.4 seconds of Wall time because most of our code is doing the function operations. It makes sense that the system time is low because we import no libraries and there is very little to memory to allocate."
   ]
  },
  {
   "cell_type": "markdown",
   "metadata": {},
   "source": [
    "# Question 2 (0.5)\n",
    "There are two blocks of code below performing the same function on a given input, explain why the second sort is much faster"
   ]
  },
  {
   "cell_type": "code",
   "execution_count": 16,
   "metadata": {},
   "outputs": [
    {
     "name": "stdout",
     "output_type": "stream",
     "text": [
      "CPU times: user 140 ms, sys: 0 ns, total: 140 ms\n",
      "Wall time: 164 ms\n"
     ]
    }
   ],
   "source": [
    "import random\n",
    "L = [random.random() for i in range(100000)]\n",
    "%time L.sort()"
   ]
  },
  {
   "cell_type": "code",
   "execution_count": 17,
   "metadata": {},
   "outputs": [
    {
     "name": "stdout",
     "output_type": "stream",
     "text": [
      "CPU times: user 16 ms, sys: 0 ns, total: 16 ms\n",
      "Wall time: 17.1 ms\n"
     ]
    }
   ],
   "source": [
    "%time L.sort()"
   ]
  },
  {
   "cell_type": "markdown",
   "metadata": {},
   "source": [
    "Similarly, to the previous part, the system has very little things to do and it is mostly the user program doing stuff. There is such a big descrepency beween the two codes because the the first block of code is randomized, meanwhile the second block is already sorted and lot less computations and comparisons are made."
   ]
  },
  {
   "cell_type": "markdown",
   "metadata": {},
   "source": [
    "# Question 3 (1 pts)\n",
    "Use Python memory_profiler to profile your own code and explain the results"
   ]
  },
  {
   "cell_type": "code",
   "execution_count": 55,
   "metadata": {},
   "outputs": [
    {
     "name": "stdout",
     "output_type": "stream",
     "text": [
      "Defaulting to user installation because normal site-packages is not writeable\n",
      "Requirement already satisfied: memory_profiler in /usr/local/lib/python3.6/dist-packages (0.61.0)\n",
      "Requirement already satisfied: psutil in /usr/local/lib/python3.6/dist-packages (from memory_profiler) (7.0.0)\n"
     ]
    }
   ],
   "source": [
    "!pip3 install memory_profiler"
   ]
  },
  {
   "cell_type": "code",
   "execution_count": 56,
   "metadata": {},
   "outputs": [],
   "source": [
    "%reload_ext memory_profiler"
   ]
  },
  {
   "cell_type": "code",
   "execution_count": 62,
   "metadata": {},
   "outputs": [
    {
     "name": "stdout",
     "output_type": "stream",
     "text": [
      "Overwriting something.py\n"
     ]
    }
   ],
   "source": [
    "%%file something.py\n",
    "def sum_of_lists(N):\n",
    "    total = 0\n",
    "    for i in range(5):\n",
    "        L = [j ^ (j >> i ) for j in range(N)]\n",
    "        total += sum(L)\n",
    "        del L\n",
    "    return total"
   ]
  },
  {
   "cell_type": "code",
   "execution_count": 63,
   "metadata": {},
   "outputs": [
    {
     "name": "stdout",
     "output_type": "stream",
     "text": [
      "\n"
     ]
    }
   ],
   "source": [
    "from something import sum_of_lists\n",
    "%mprun -f sum_of_lists sum_of_lists(10000)"
   ]
  },
  {
   "cell_type": "markdown",
   "metadata": {},
   "source": [
    "Our code gets the sum all integers from 1 to N. Our profile pager shows that we allocated ~74 MiB for our program. We had a spike in the initial definition of the function and we had a large negative decrement in line 4 as we updated our total time.The negative deallocation may be due to how fast we deallocated our resources,deallocating the resource before the profiler logs a use of that resource."
   ]
  },
  {
   "cell_type": "markdown",
   "metadata": {},
   "source": [
    "# Question 4 (7 pts)\n",
    "Run the following codes to measure execution time, memory usage and answer the following questions.\n",
    "Note: Make sure to install any missing Python packages"
   ]
  },
  {
   "cell_type": "markdown",
   "metadata": {},
   "source": [
    "1. This code snippet defines and runs a simple Python function hello() that prints 'hello world!'. It also employs the memory_profiler module to profile the memory usage of the hello() function with a specified precision."
   ]
  },
  {
   "cell_type": "code",
   "execution_count": 72,
   "metadata": {},
   "outputs": [
    {
     "name": "stdout",
     "output_type": "stream",
     "text": [
      "Overwriting helloworld.py\n"
     ]
    }
   ],
   "source": [
    "%%file helloworld.py\n",
    "from memory_profiler import profile\n",
    "\n",
    "@profile(precision=4)\n",
    "def hello():\n",
    "\tprint(\"hello world!\") \n",
    "\n",
    "hello()"
   ]
  },
  {
   "cell_type": "code",
   "execution_count": 74,
   "metadata": {},
   "outputs": [
    {
     "name": "stdout",
     "output_type": "stream",
     "text": [
      "hello world!\n",
      "Filename: /home/aishyash/Downloads/helloworld.py\n",
      "\n",
      "Line #    Mem usage    Increment  Occurrences   Line Contents\n",
      "=============================================================\n",
      "     3  73.6836 MiB  73.6836 MiB           1   @profile(precision=4)\n",
      "     4                                         def hello():\n",
      "     5  73.6836 MiB   0.0000 MiB           1   \tprint(\"hello world!\") \n",
      "\n",
      "\n",
      "\n",
      "IPython CPU timings (estimated):\n",
      "  User   :       0.01 s.\n",
      "  System :       0.00 s.\n",
      "Wall time:       0.01 s.\n"
     ]
    }
   ],
   "source": [
    "%run -t helloworld.py"
   ]
  },
  {
   "cell_type": "markdown",
   "metadata": {},
   "source": [
    "2. This code snippet demonstrates memory profiling for a Python function my_func() that creates, manipulates, and deletes large lists, showcasing how memory usage changes with these operations"
   ]
  },
  {
   "cell_type": "code",
   "execution_count": 75,
   "metadata": {},
   "outputs": [
    {
     "name": "stdout",
     "output_type": "stream",
     "text": [
      "Writing expressions.py\n"
     ]
    }
   ],
   "source": [
    "%%file expressions.py\n",
    "from memory_profiler import profile\n",
    "@profile(precision=4)\n",
    "def my_func():\n",
    "    a = [1] * (10 ** 6)\n",
    "    b = [2] * (2 * 10 ** 7)\n",
    "    del b\n",
    "    return a\n",
    "my_func()"
   ]
  },
  {
   "cell_type": "code",
   "execution_count": 77,
   "metadata": {},
   "outputs": [
    {
     "name": "stdout",
     "output_type": "stream",
     "text": [
      "Filename: /home/aishyash/Downloads/expressions.py\n",
      "\n",
      "Line #    Mem usage    Increment  Occurrences   Line Contents\n",
      "=============================================================\n",
      "     2  73.8359 MiB  73.8359 MiB           1   @profile(precision=4)\n",
      "     3                                         def my_func():\n",
      "     4  73.8359 MiB   0.0000 MiB           1       a = [1] * (10 ** 6)\n",
      "     5 226.2266 MiB 152.3906 MiB           1       b = [2] * (2 * 10 ** 7)\n",
      "     6  73.8359 MiB -152.3906 MiB           1       del b\n",
      "     7  73.8359 MiB   0.0000 MiB           1       return a\n",
      "\n",
      "\n",
      "\n",
      "IPython CPU timings (estimated):\n",
      "  User   :       0.14 s.\n",
      "  System :       0.12 s.\n",
      "Wall time:       0.27 s.\n"
     ]
    }
   ],
   "source": [
    "%run -t expressions.py"
   ]
  },
  {
   "cell_type": "markdown",
   "metadata": {},
   "source": [
    "3. This code snippet profiles memory usage of the function math_funcs(), which demonstrates the application of logarithmic, cosine, and reciprocal functions from the NumPy library on an array of numbers, and prints the results for each operation."
   ]
  },
  {
   "cell_type": "code",
   "execution_count": 78,
   "metadata": {},
   "outputs": [
    {
     "name": "stdout",
     "output_type": "stream",
     "text": [
      "Writing math_funcs.py\n"
     ]
    }
   ],
   "source": [
    "%%file math_funcs.py\n",
    "from memory_profiler import profile\n",
    "import math\n",
    "import numpy as np\n",
    "\n",
    "@profile(precision=4)\n",
    "def math_funcs():\n",
    "\tinp_arr = [10, 20, 30, 40, 50] \n",
    "\tprint (\"Array input elements:\\n\", inp_arr) \n",
    "\n",
    "\tres_arr = np.log(inp_arr) \n",
    "\tprint (\"Applying log function:\\n\", res_arr)\n",
    "\n",
    "\tres_arr2 = np.cos(inp_arr) \n",
    "\tprint (\"Applying cos function:\\n\", res_arr2)\n",
    "\n",
    "\tres_arr3 = np.reciprocal(inp_arr) \n",
    "\tprint (\"Applying reciprocal function:\\n\", res_arr3)\n",
    "\n",
    "\n",
    "math_funcs()"
   ]
  },
  {
   "cell_type": "code",
   "execution_count": 79,
   "metadata": {},
   "outputs": [
    {
     "name": "stdout",
     "output_type": "stream",
     "text": [
      "Array input elements:\n",
      " [10, 20, 30, 40, 50]\n",
      "Applying log function:\n",
      " [ 2.30258509  2.99573227  3.40119738  3.68887945  3.91202301]\n",
      "Applying cos function:\n",
      " [-0.83907153  0.40808206  0.15425145 -0.66693806  0.96496603]\n",
      "Applying reciprocal function:\n",
      " [0 0 0 0 0]\n",
      "Filename: /home/aishyash/Downloads/math_funcs.py\n",
      "\n",
      "Line #    Mem usage    Increment  Occurrences   Line Contents\n",
      "=============================================================\n",
      "     5  79.9609 MiB  79.9609 MiB           1   @profile(precision=4)\n",
      "     6                                         def math_funcs():\n",
      "     7  79.9609 MiB   0.0000 MiB           1   \tinp_arr = [10, 20, 30, 40, 50] \n",
      "     8  79.9609 MiB   0.0000 MiB           1   \tprint (\"Array input elements:\\n\", inp_arr) \n",
      "     9                                         \n",
      "    10  79.9609 MiB   0.0000 MiB           1   \tres_arr = np.log(inp_arr) \n",
      "    11  79.9609 MiB   0.0000 MiB           1   \tprint (\"Applying log function:\\n\", res_arr)\n",
      "    12                                         \n",
      "    13  79.9609 MiB   0.0000 MiB           1   \tres_arr2 = np.cos(inp_arr) \n",
      "    14  79.9609 MiB   0.0000 MiB           1   \tprint (\"Applying cos function:\\n\", res_arr2)\n",
      "    15                                         \n",
      "    16  79.9609 MiB   0.0000 MiB           1   \tres_arr3 = np.reciprocal(inp_arr) \n",
      "    17  79.9609 MiB   0.0000 MiB           1   \tprint (\"Applying reciprocal function:\\n\", res_arr3)\n",
      "\n",
      "\n",
      "\n",
      "IPython CPU timings (estimated):\n",
      "  User   :       0.20 s.\n",
      "  System :       0.03 s.\n",
      "Wall time:       0.43 s.\n"
     ]
    }
   ],
   "source": [
    "%run -t math_funcs.py"
   ]
  },
  {
   "cell_type": "markdown",
   "metadata": {},
   "source": [
    "4. This code snippet, using memory profiling, demonstrates a nested loop in Python where it iterates through combinations of adjectives and fruit names, printing each pair."
   ]
  },
  {
   "cell_type": "code",
   "execution_count": 80,
   "metadata": {},
   "outputs": [
    {
     "name": "stdout",
     "output_type": "stream",
     "text": [
      "Writing loops.py\n"
     ]
    }
   ],
   "source": [
    "%%file loops.py\n",
    "from memory_profiler import profile\n",
    "import numpy as np\n",
    "import ctypes\n",
    "import math\n",
    "import time\n",
    "\n",
    "@profile(precision=4)\n",
    "def my_loops():\n",
    "\tadj = [\"red\", \"big\", \"tasty\"]\n",
    "\tfruits = [\"apple\", \"banana\", \"cherry\"]\n",
    "\n",
    "\tfor x in adj:\n",
    " \t\t for y in fruits:\n",
    "   \t\t\t print(x, y)\n",
    "\n",
    "\n",
    "my_loops()"
   ]
  },
  {
   "cell_type": "code",
   "execution_count": 82,
   "metadata": {},
   "outputs": [
    {
     "name": "stdout",
     "output_type": "stream",
     "text": [
      "red apple\n",
      "red banana\n",
      "red cherry\n",
      "big apple\n",
      "big banana\n",
      "big cherry\n",
      "tasty apple\n",
      "tasty banana\n",
      "tasty cherry\n",
      "Filename: /home/aishyash/Downloads/loops.py\n",
      "\n",
      "Line #    Mem usage    Increment  Occurrences   Line Contents\n",
      "=============================================================\n",
      "     7  80.2500 MiB  80.2500 MiB           1   @profile(precision=4)\n",
      "     8                                         def my_loops():\n",
      "     9  80.2500 MiB   0.0000 MiB           1   \tadj = [\"red\", \"big\", \"tasty\"]\n",
      "    10  80.2500 MiB   0.0000 MiB           1   \tfruits = [\"apple\", \"banana\", \"cherry\"]\n",
      "    11                                         \n",
      "    12  80.2500 MiB   0.0000 MiB           4   \tfor x in adj:\n",
      "    13  80.2500 MiB   0.0000 MiB          12    \t\t for y in fruits:\n",
      "    14  80.2500 MiB   0.0000 MiB           9      \t\t\t print(x, y)\n",
      "\n",
      "\n",
      "\n",
      "IPython CPU timings (estimated):\n",
      "  User   :       0.04 s.\n",
      "  System :       0.00 s.\n",
      "Wall time:       0.05 s.\n"
     ]
    }
   ],
   "source": [
    "%run -t loops.py"
   ]
  },
  {
   "cell_type": "markdown",
   "metadata": {},
   "source": [
    "## Question 4.1 (1.5 pts)\n",
    "Modify each of the above function to capture their execution time (Both CPU and Wall). You can modify the code directly, if required."
   ]
  },
  {
   "cell_type": "code",
   "execution_count": null,
   "metadata": {},
   "outputs": [],
   "source": [
    "# You can modify the code in-place or re-write the code here --- did it in original place"
   ]
  },
  {
   "cell_type": "markdown",
   "metadata": {},
   "source": [
    "## Question 4.2 (1.5 pts)\n",
    "\n",
    "What patterns did you notice between each of the above function with respect to latency, memory usage and code ?\n"
   ]
  },
  {
   "cell_type": "markdown",
   "metadata": {},
   "source": [
    "Often, the Wall time was close to the sum of User and System time. Additionally, the higher the complexity of the function, the longer the system took to calculate the values (especially with progran 2). Snippets 1 and 4 were fairly simple, so it made sense that they occured in less than 0.1 seconds. The strange function was snippet 3 in which our Wall time was significantly higher than the sum of User and System times. This may be due to waiting by system during runtime."
   ]
  },
  {
   "cell_type": "markdown",
   "metadata": {},
   "source": [
    "## Question 4.3 (2 pts)\n",
    "Using %time magic command, we can trace overall code execution time. Sometimes, you might have to get deeper insights to identify performance bottlenecks. Write your own code and profile execution time line by line."
   ]
  },
  {
   "cell_type": "code",
   "execution_count": 110,
   "metadata": {},
   "outputs": [
    {
     "name": "stdout",
     "output_type": "stream",
     "text": [
      "Overwriting compute.py\n"
     ]
    }
   ],
   "source": [
    "%%file compute.py\n",
    "\n",
    "\n",
    "from memory_profiler import profile\n",
    "\n",
    "@profile(precision=4)\n",
    "def compute(N):\n",
    "    result = 0\n",
    "    for i in range(N):\n",
    "        L = i + i +1\n",
    "        result += L\n",
    "    return result\n",
    "\n",
    "compute(100)\n",
    "\n",
    "'''%%file file_for_some_function.py\n",
    "%%timeit\n",
    "def some_function(N):\n",
    "    total = 0\n",
    "    for i in range(N):\n",
    "        L = i + i + 1\n",
    "        total += L\n",
    "        del L\n",
    "    return total'''"
   ]
  },
  {
   "cell_type": "code",
   "execution_count": 111,
   "metadata": {},
   "outputs": [
    {
     "name": "stdout",
     "output_type": "stream",
     "text": [
      "Filename: /home/aishyash/Downloads/compute.py\n",
      "\n",
      "Line #    Mem usage    Increment  Occurrences   Line Contents\n",
      "=============================================================\n",
      "     5  80.3398 MiB  80.3398 MiB           1   @profile(precision=4)\n",
      "     6                                         def compute(N):\n",
      "     7  80.3398 MiB   0.0000 MiB           1       result = 0\n",
      "     8  80.3398 MiB   0.0000 MiB         101       for i in range(N):\n",
      "     9  80.3398 MiB   0.0000 MiB         100           L = i + i +1\n",
      "    10  80.3398 MiB   0.0000 MiB         100           result += L\n",
      "    11  80.3398 MiB   0.0000 MiB           1       return result\n",
      "\n",
      "\n",
      "\n",
      "IPython CPU timings (estimated):\n",
      "  User   :       0.09 s.\n",
      "  System :       0.02 s.\n",
      "Wall time:       0.12 s.\n"
     ]
    },
    {
     "data": {
      "text/plain": [
       "'from file_for_some_function import some_function\\n%mprun -f some_function some_function(100)'"
      ]
     },
     "execution_count": 111,
     "metadata": {},
     "output_type": "execute_result"
    }
   ],
   "source": [
    "%run -t compute.py"
   ]
  },
  {
   "cell_type": "markdown",
   "metadata": {},
   "source": [
    "## (Bonus) Question 4.4 (2 pts)\n",
    "Memory usage of a program can also be reported as a function of time. Profile memory of any of the above code as a function of time.\n",
    "Submit your profile results and a plot of the results (Mem used vs Time)."
   ]
  },
  {
   "cell_type": "code",
   "execution_count": null,
   "metadata": {},
   "outputs": [],
   "source": [
    "# Your code goes here"
   ]
  },
  {
   "cell_type": "markdown",
   "metadata": {},
   "source": [
    "Plot goes here"
   ]
  }
 ],
 "metadata": {
  "kernelspec": {
   "display_name": "Python 3",
   "language": "python",
   "name": "python3"
  },
  "language_info": {
   "codemirror_mode": {
    "name": "ipython",
    "version": 3
   },
   "file_extension": ".py",
   "mimetype": "text/x-python",
   "name": "python",
   "nbconvert_exporter": "python",
   "pygments_lexer": "ipython3",
   "version": "3.6.9"
  },
  "vscode": {
   "interpreter": {
    "hash": "b0fa6594d8f4cbf19f97940f81e996739fb7646882a419484c72d19e05852a7e"
   }
  }
 },
 "nbformat": 4,
 "nbformat_minor": 2
}
